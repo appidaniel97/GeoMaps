{
 "cells": [
  {
   "cell_type": "code",
   "execution_count": 1,
   "id": "3d672dd2",
   "metadata": {},
   "outputs": [],
   "source": [
    "# Installs geemap package\n",
    "import subprocess\n",
    "\n",
    "try:\n",
    "    import geemap\n",
    "except ImportError:\n",
    "    print('geemap package not installed. Installing ...')\n",
    "    subprocess.check_call([\"python\", '-m', 'pip', 'install', '-U', 'geemap'])"
   ]
  },
  {
   "cell_type": "code",
   "execution_count": 2,
   "id": "0c9416af",
   "metadata": {},
   "outputs": [],
   "source": [
    "import ee\n",
    "import geemap\n",
    "import geemap.foliumap as fgmap\n",
    "import datapane as dp\n",
    "import pandas as pd\n",
    "import pandas.io.sql as sqlio\n",
    "import psycopg2 as ps\n",
    "import sys\n",
    "from ipywidgets import Button, DatePicker , Layout\n",
    "from ipyleaflet import WidgetControl, ImageOverlay\n",
    "import ipywidgets as widgets\n",
    "import uuid\n",
    "#import folium\n",
    "import json\n",
    "from geemap import geojson_to_ee\n",
    "import geojson\n",
    "from geojson import GeometryCollection, Point, LineString\n",
    "#from ipyleaflet import ImageOverlay"
   ]
  },
  {
   "cell_type": "code",
   "execution_count": 3,
   "id": "49466cb8",
   "metadata": {},
   "outputs": [],
   "source": [
    "conn = ps.connect(dbname=\"postgres\",\n",
    "                  user=\"postgres\",\n",
    "                  password=\"vssql\",\n",
    "                  host=\"localhost\",\n",
    "                  port=\"5432\")"
   ]
  },
  {
   "cell_type": "code",
   "execution_count": 4,
   "id": "6ca796e9",
   "metadata": {},
   "outputs": [],
   "source": [
    "import warnings\n",
    "\n",
    "warnings.filterwarnings('ignore')\n",
    "\n",
    "cur = conn.cursor()"
   ]
  },
  {
   "cell_type": "code",
   "execution_count": 5,
   "id": "35b54897",
   "metadata": {},
   "outputs": [
    {
     "name": "stdout",
     "output_type": "stream",
     "text": [
      "Google Earth Engine has initialized succesfully!\n"
     ]
    }
   ],
   "source": [
    "try:\n",
    "    service_account = ' totvs-9382f3354ed5e4054e9feb16b@ee-daniel97appi.iam.gserviceaccount.com'\n",
    "    credentials = ee.ServiceAccountCredentials(service_account, 'ee-token.json')\n",
    "    ee.Initialize(credentials)\n",
    "    print('Google Earth Engine has initialized succesfully!')\n",
    "except ee.EEException as e:\n",
    "    print('Google Earth Engine has failed to initialized!')\n",
    "except:\n",
    "    print('Unexpected error:', sys.exc_info()[0])\n",
    "    raise"
   ]
  },
  {
   "cell_type": "code",
   "execution_count": 6,
   "id": "273dac1a",
   "metadata": {},
   "outputs": [],
   "source": [
    "Map = geemap.Map(center=[40, -100], zoom=4)\n",
    "Map.add_basemap('HYBRID')  # Add Google Satellite\n",
    "Map.setCenter(-7.03125, 31.0529339857, 2)\n",
    "mc = Map.measure_control\n",
    "toolbarButton = Map.toolbar_button\n",
    "toolbar = Map.toolbar\n",
    "buttonToolbar = Map.toolbar_reset\n",
    "Map.remove_control(mc)"
   ]
  },
  {
   "cell_type": "code",
   "execution_count": 7,
   "id": "0e9c92cb",
   "metadata": {},
   "outputs": [
    {
     "data": {
      "application/vnd.jupyter.widget-view+json": {
       "model_id": "63834e280b4c43aaa458a60c3d795c7b",
       "version_major": 2,
       "version_minor": 0
      },
      "text/plain": [
       "Button(description='Filtrar Data', style=ButtonStyle())"
      ]
     },
     "metadata": {},
     "output_type": "display_data"
    },
    {
     "data": {
      "application/vnd.jupyter.widget-view+json": {
       "model_id": "e3d92e5bc1d74191bda102ec38314e38",
       "version_major": 2,
       "version_minor": 0
      },
      "text/plain": [
       "DatePicker(value=None, description='Data Inicial:', step=1)"
      ]
     },
     "metadata": {},
     "output_type": "display_data"
    },
    {
     "data": {
      "application/vnd.jupyter.widget-view+json": {
       "model_id": "d10c13fc361643aba82cf9dca6b59edb",
       "version_major": 2,
       "version_minor": 0
      },
      "text/plain": [
       "DatePicker(value=None, description='Data Final:', step=1)"
      ]
     },
     "metadata": {},
     "output_type": "display_data"
    }
   ],
   "source": [
    "# Create the button widget\n",
    "load_button = Button(description=\"Filtrar Data\")\n",
    "\n",
    "# Create the date picker widget\n",
    "start_date_picker = DatePicker(description='Data Inicial:')\n",
    "end_date_picker = DatePicker(description='Data Final:')\n",
    "\n",
    "collection = ee.ImageCollection('LANDSAT/LC09/C02/T1_TOA').filter(ee.Filter.lt('CLOUD_COVER_LAND', 10)).filter(ee.Filter.lt('CLOUD_COVER', 10))\n",
    "img_median = collection.median()\n",
    "\n",
    "#img = img_median.first()\n",
    "img = None\n",
    "\n",
    "# Create a variable to store the layer\n",
    "layer = None\n",
    "\n",
    "# Define a function to handle the button click event\n",
    "def on_button_click(b, collection):\n",
    "    if not start_date_picker.value or not end_date_picker.value:\n",
    "        from datetime import datetime, timedelta\n",
    "        yesterday = datetime.now() - timedelta(days=1)\n",
    "        start_date = yesterday.strftime('%Y-%m-%d')\n",
    "        end_date = yesterday.strftime('%Y-%m-%d')\n",
    "    else:\n",
    "        start_date = start_date_picker.value.strftime('%Y-%m-%d')\n",
    "        end_date = end_date_picker.value.strftime('%Y-%m-%d')\n",
    "    start_date = ee.Date(start_date)\n",
    "    end_date = ee.Date(end_date)   \n",
    "    \n",
    "    #Filter the collection to the date range    \n",
    "    collection = collection.filterDate(start_date, end_date).filter(ee.Filter.lt('CLOUDY_PIXEL_PERCENTAGE', 10));\n",
    "    print(start_date, end_date)\n",
    "    img = ee.Image(collection.first())\n",
    "    calcIndices(img)   \n",
    "\n",
    "# Display the button and date picker widgets\n",
    "display(load_button)\n",
    "display(start_date_picker)\n",
    "display(end_date_picker)\n",
    "\n",
    "# Create the WidgetControl\n",
    "buttonDate = WidgetControl(widget=start_date_picker, position='topright')\n",
    "buttonDate2 = WidgetControl(widget=end_date_picker, position='topright')\n",
    "buttonLoad = WidgetControl(widget=load_button, position='topright')\n",
    "\n",
    "# Add the WidgetControl to the map\n",
    "Map.add_control(buttonDate)\n",
    "Map.add_control(buttonDate2)\n",
    "Map.add_control(buttonLoad)\n",
    "\n",
    "# Function to calculate NDVI and GARI\n",
    "def calcIndices(img):\n",
    "    nir = img.select('B5')\n",
    "    red = img.select('B4')\n",
    "    green = img.select('B3')\n",
    "    blue = img.select('B2')\n",
    "    \n",
    "    # Calculate NDVI\n",
    "    ndvi = nir.subtract(red).divide(nir.add(red)).rename('NDVI');\n",
    "    \n",
    "    gari = green.subtract(red).divide(green.add(red.subtract(blue))).multiply(green.subtract(nir)).divide(green.add(nir)).rename('GARI');\n",
    "    \n",
    "    evi = ((nir.subtract(red)).divide(nir.add(6)).multiply(red.subtract(7.5).multiply(blue.add(1))).multiply(2.5)).rename('EVI');\n",
    "\n",
    "    ndwi = green.subtract(nir).divide(green.add(nir)).rename('NDWI');\n",
    "\n",
    "    gndvi = nir.subtract(green).divide(nir.add(green)).rename('GNDVI');\n",
    "\n",
    "    ndre = nir.subtract(red).divide(nir.add(red)).rename('NDRE');\n",
    "\n",
    "    osavi = nir.subtract(red).divide(nir.add(red).add(0.16)).rename('OSAVI');\n",
    "\n",
    "    gsavi = (nir.subtract(green).divide(nir.add(green).add(0.5)).divide(1.5)).rename('GSAVI');\n",
    "\n",
    "    navi = (red.divide(nir)).divide(1).rename('NAVI');\n",
    "\n",
    "    rvi = nir.divide(red).rename('RVI');\n",
    "\n",
    "    savi = (nir.subtract(red).divide(nir.add(red).add(0.5))).multiply(1.5).rename('SAVI');\n",
    "\n",
    "    return img.addBands(ndvi).addBands(gari).addBands(evi).addBands(ndwi).addBands(gndvi).addBands(ndre).addBands(osavi).addBands(gsavi).addBands(navi).addBands(rvi).addBands(savi)\n",
    "\n",
    "# Map the calcIndices function over the collection\n",
    "indices_collection = collection.map(calcIndices)\n",
    "#load_button.on_click(lambda b: on_button_click(b, collection))\n",
    "\n",
    "# Attach the function to the button's click event\n",
    "load_button.on_click(lambda b: on_button_click(b, collection))\n",
    "\n",
    "# Get the median NDVI image\n",
    "median_ndvi = indices_collection.select('NDVI').median()\n",
    "ndviParams = {'min': -1, 'max': 1, 'palette': ['blue', 'white', 'green']}\n",
    "\n",
    "# Get the median GARI image\n",
    "median_gari = indices_collection.select('GARI').median()\n",
    "median_evi = indices_collection.select('EVI').median()\n",
    "median_ndwi = indices_collection.select('NDWI').median()\n",
    "median_gndvi = indices_collection.select('GNDVI').median()\n",
    "median_ndre = indices_collection.select('NDRE').median()\n",
    "median_osavi = indices_collection.select('OSAVI').median()\n",
    "median_gsavi = indices_collection.select('GSAVI').median()\n",
    "median_navi = indices_collection.select('NAVI').median()\n",
    "median_rvi = indices_collection.select('RVI').median()\n",
    "median_savi = indices_collection.select('SAVI').median()\n",
    "\n",
    "gariParams = {'min': -1, 'max': 1, 'palette': ['blue', 'white', 'green']}\n",
    "\n",
    "indexParams = {'min': -1, 'max': 1, 'palette': ['blue', 'white', 'green']}"
   ]
  },
  {
   "cell_type": "code",
   "execution_count": 8,
   "id": "e31d8fa3",
   "metadata": {},
   "outputs": [
    {
     "data": {
      "application/vnd.jupyter.widget-view+json": {
       "model_id": "747c250015d54e3fb0b00bb7138f0d58",
       "version_major": 2,
       "version_minor": 0
      },
      "text/plain": [
       "Dropdown(options=('NDVI', 'GARI', 'EVI', 'NDWI', 'GNDVI', 'NDRE', 'OSAVI', 'GSAVI', 'NAVI', 'RVI', 'SAVI'), va…"
      ]
     },
     "metadata": {},
     "output_type": "display_data"
    }
   ],
   "source": [
    "index_options = ['NDVI', 'GARI', 'EVI', 'NDWI', 'GNDVI', 'NDRE', 'OSAVI', 'GSAVI', \n",
    "                 'NAVI', 'RVI', 'SAVI']\n",
    "\n",
    "# Create a dropdown widget for the index options\n",
    "index_dropdown = widgets.Dropdown(options=index_options)\n",
    "display(index_dropdown)\n",
    "\n",
    "# Map the index names to the index images and parameters\n",
    "index_dict = {\n",
    "    'NDVI': (median_ndvi, ndviParams),\n",
    "    'GARI': (median_gari, gariParams),\n",
    "    'EVI': (median_evi, indexParams),\n",
    "    'NDWI': (median_ndwi, indexParams),\n",
    "    'GNDVI': (median_gndvi, indexParams),\n",
    "    'NDRE': (median_ndre, indexParams),\n",
    "    'OSAVI': (median_osavi, indexParams),\n",
    "    'GSAVI': (median_gsavi, indexParams),\n",
    "    'NAVI': (median_navi, indexParams),\n",
    "    'RVI': (median_rvi, indexParams),\n",
    "    'SAVI': (median_savi, indexParams),          \n",
    "}\n",
    "\n",
    "# Create the WidgetControl\n",
    "control = WidgetControl(widget=index_dropdown, position='topright')\n",
    "\n",
    "Map.add_control(control)"
   ]
  },
  {
   "cell_type": "code",
   "execution_count": 9,
   "id": "803784e8",
   "metadata": {},
   "outputs": [],
   "source": [
    "# Get basemap layers\n",
    "base_layers = Map.layers\n",
    "\n",
    "feat_list = []\n",
    "\n",
    "\n",
    "# Create the draw control\n",
    "dc = Map.draw_control\n",
    "dc.rectangle = {\"shapeOptions\": {\"fillColor\": \"transparent\", \"color\": \"black\"}}\n",
    "dc.polygon = {\"shapeOptions\": {\"fillColor\": \"transparent\", \"color\": \"black\"},\"options\": {\"title\": \"Custom Title for Rectangle\"}}\n",
    "dc.circle = {\"shapeOptions\": {\"fillColor\": \"transparent\", \"color\": \"black\"}}\n",
    "dc.edit = True\n",
    "dc.remove = False #trash button \n",
    "\n",
    "# Create a dictionary to store the features and images for each index type\n",
    "images = {}\n",
    "\n",
    "data_to_insert = []\n",
    "\n",
    "removeShapes = []\n",
    "\n",
    "clip_imageGlobal = None\n",
    "index_paramsGlobal = None\n",
    "selected_indexGlobal = None\n",
    "\n",
    "shape_dict = {}\n",
    "\n",
    "# Handle draw events\n",
    "def handle_draw(self, action, geo_json):\n",
    "    \n",
    "    global clip_image\n",
    "    global index_params\n",
    "    global selected_index\n",
    "    \n",
    "    selected_index = index_dropdown.value\n",
    "\n",
    "    # Get the index image and parameters\n",
    "    index_image, index_params = index_dict[selected_index]\n",
    "\n",
    "    geom = geojson_to_ee(geo_json, False)\n",
    "\n",
    "    feature = ee.Feature(geom)\n",
    "    feature = feature.set(\"index\", str(selected_index))\n",
    "    feature = feature.set(\"selected\", False)\n",
    "    feature = feature.set(\"id\", str(uuid.uuid4()))\n",
    "\n",
    "    geojson_dict = geom.getInfo()\n",
    "    geojsonStr = geojson.dumps(geojson_dict)\n",
    "    data_to_insert.append((geojsonStr, str(selected_index)))\n",
    "    \n",
    "    feature = ee.Feature(geom)\n",
    "        \n",
    "    if selected_index in images:\n",
    "        feat_list, img_list = images[selected_index]\n",
    "        feat_list.append(feature)\n",
    "        img_list.append((index_image, index_params))\n",
    "    else:\n",
    "        images[selected_index] = ([feature], [(index_image, index_params)])\n",
    "\n",
    "    # Add only the new images to the map\n",
    "    feat_list, img_list = images[selected_index]\n",
    "    collection = ee.FeatureCollection(feat_list)\n",
    "    clip_image = index_image.clipToCollection(collection)\n",
    "\n",
    "    \n",
    "    removeShapes.append((clip_image, index_params, selected_index))\n",
    "\n",
    "    Map.add_ee_layer(clip_image, index_params, selected_index)\n",
    "    \n",
    "dc.on_draw(handle_draw)"
   ]
  },
  {
   "cell_type": "code",
   "execution_count": 10,
   "id": "81a99227",
   "metadata": {
    "scrolled": false
   },
   "outputs": [
    {
     "data": {
      "application/vnd.jupyter.widget-view+json": {
       "model_id": "11fb60aaffd74c0da717d23bf27f1a9e",
       "version_major": 2,
       "version_minor": 0
      },
      "text/plain": [
       "Map(center=[31.0529339857, -7.03125], controls=(WidgetControl(options=['position', 'transparent_bg'], widget=H…"
      ]
     },
     "execution_count": 10,
     "metadata": {},
     "output_type": "execute_result"
    }
   ],
   "source": [
    "def savePlot(s):\n",
    "    cur.executemany(\"INSERT INTO geomapping (descricao, indice) VALUES (%s,%s)\", data_to_insert)\n",
    "    conn.commit()\n",
    "    \n",
    "load_data_button = Button(description=\"Salvar indices\")\n",
    "load_data_button.on_click(savePlot)\n",
    "\n",
    "buttonSave = WidgetControl(widget=load_data_button, position='topright')\n",
    "\n",
    "Map.add_control(buttonSave)\n",
    "\n",
    "def load_data_from_db(b):\n",
    "   \n",
    "# Fetch the data from the database\n",
    "    cur.execute(\"SELECT descricao, indice FROM geomapping\")\n",
    "    rows = cur.fetchall()\n",
    "\n",
    "    # Iterate over the rows and display the data on the map\n",
    "    for row in rows:\n",
    "        geojson_str, index_selected = row\n",
    "        # Convert the geojson data from the database to an ee.Geometry object\n",
    "        geojson_data = json.loads(geojson_str)\n",
    "        geom = ee.Geometry.Polygon(geojson_data['coordinates'])\n",
    "        index_image, index_params = index_dict[index_selected]\n",
    "        clipped_image = index_image.clip(geom)\n",
    "        Map.add_ee_layer(clipped_image, index_params, index_selected)\n",
    "        \n",
    "            \n",
    "load_data_button = Button(description=\"Carregar indices\")\n",
    "load_data_button.on_click(load_data_from_db)\n",
    "\n",
    "buttonLoad = WidgetControl(widget=load_data_button, position='topright')\n",
    "#['topright', 'topleft', 'bottomright', 'bottomleft']\n",
    "\n",
    "Map.add_control(buttonLoad)\n",
    "\n",
    "def delLayer(q):\n",
    "    Map.remove_drawn_features()\n",
    "    Map.remove_labels()\n",
    "    Map.clear_layers()\n",
    "    Map.add_basemap('HYBRID')  # Add Google Satellite\n",
    "    Map.setCenter(-48.86154371799718, -21.53706897593839, 6)\n",
    "    \n",
    "delButton = Button(description=\"\", icon=\"fa-solid fa-trash\", layout=Layout(width='30px'))\n",
    "delButton.on_click(delLayer)\n",
    "\n",
    "layerDel = WidgetControl(widget=delButton, position='topleft')\n",
    "Map.add_control(layerDel)\n",
    "\n",
    "Map"
   ]
  },
  {
   "cell_type": "markdown",
   "id": "35cf8c12",
   "metadata": {},
   "source": []
  },
  {
   "cell_type": "markdown",
   "id": "d99e31f1",
   "metadata": {},
   "source": [
    "#### "
   ]
  },
  {
   "cell_type": "code",
   "execution_count": 15,
   "id": "aaaeba13",
   "metadata": {},
   "outputs": [
    {
     "ename": "SyntaxError",
     "evalue": "invalid syntax (3915903684.py, line 1)",
     "output_type": "error",
     "traceback": [
      "\u001b[1;36m  Cell \u001b[1;32mIn[15], line 1\u001b[1;36m\u001b[0m\n\u001b[1;33m    jupyter nbconvert --to html mynotebook.ipynb\u001b[0m\n\u001b[1;37m            ^\u001b[0m\n\u001b[1;31mSyntaxError\u001b[0m\u001b[1;31m:\u001b[0m invalid syntax\n"
     ]
    }
   ],
   "source": []
  },
  {
   "cell_type": "code",
   "execution_count": null,
   "id": "14cd48e0",
   "metadata": {},
   "outputs": [],
   "source": []
  }
 ],
 "metadata": {
  "kernelspec": {
   "display_name": "Python 3 (ipykernel)",
   "language": "python",
   "name": "python3"
  },
  "language_info": {
   "codemirror_mode": {
    "name": "ipython",
    "version": 3
   },
   "file_extension": ".py",
   "mimetype": "text/x-python",
   "name": "python",
   "nbconvert_exporter": "python",
   "pygments_lexer": "ipython3",
   "version": "3.9.7"
  }
 },
 "nbformat": 4,
 "nbformat_minor": 5
}
