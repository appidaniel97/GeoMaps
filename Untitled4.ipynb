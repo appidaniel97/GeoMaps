{
 "cells": [
  {
   "cell_type": "code",
   "execution_count": 1,
   "id": "8272f5e1",
   "metadata": {},
   "outputs": [],
   "source": [
    "# Installs geemap package\n",
    "import subprocess\n",
    "\n",
    "try:\n",
    "    import geemap\n",
    "except ImportError:\n",
    "    print('geemap package not installed. Installing ...')\n",
    "    subprocess.check_call([\"python\", '-m', 'pip', 'install', '-U', 'geemap'])\n"
   ]
  },
  {
   "cell_type": "code",
   "execution_count": 2,
   "id": "518c5583",
   "metadata": {},
   "outputs": [],
   "source": [
    "import ee\n",
    "import geemap"
   ]
  },
  {
   "cell_type": "code",
   "execution_count": 10,
   "id": "b587780c",
   "metadata": {},
   "outputs": [
    {
     "data": {
      "application/vnd.jupyter.widget-view+json": {
       "model_id": "535d4538cf42410b984886c899774424",
       "version_major": 2,
       "version_minor": 0
      },
      "text/plain": [
       "Map(center=[40, -100], controls=(WidgetControl(options=['position', 'transparent_bg'], widget=HBox(children=(T…"
      ]
     },
     "execution_count": 10,
     "metadata": {},
     "output_type": "execute_result"
    }
   ],
   "source": [
    "Map = geemap.Map(center=[40, -100], zoom=4)\n",
    "Map.add_basemap('HYBRID')  # Add Google Satellite\n",
    "Map\n"
   ]
  },
  {
   "cell_type": "code",
   "execution_count": 8,
   "id": "a44119f0",
   "metadata": {},
   "outputs": [
    {
     "data": {
      "application/vnd.jupyter.widget-view+json": {
       "model_id": "bc5adb4b01e040ea958dcca277f9770b",
       "version_major": 2,
       "version_minor": 0
      },
      "text/plain": [
       "Map(bottom=1851.0, center=[31.0529339857, -7.03125], controls=(WidgetControl(options=['position', 'transparent…"
      ]
     },
     "execution_count": 8,
     "metadata": {},
     "output_type": "execute_result"
    }
   ],
   "source": [
    "image = (\n",
    "    ee.ImageCollection('MODIS/MCD43A4_006_NDVI')\n",
    "    .filter(ee.Filter.date('2018-04-01', '2018-05-01'))\n",
    "    .select(\"NDVI\")\n",
    "    .first()\n",
    ")\n",
    "\n",
    "vis_params = {\n",
    "    'min': 0.0,\n",
    "    'max': 1.0,\n",
    "    'palette': [\n",
    "        'FFFFFF',\n",
    "        'CE7E45',\n",
    "        'DF923D',\n",
    "        'F1B555',\n",
    "        'FCD163',\n",
    "        '99B718',\n",
    "        '74A901',\n",
    "        '66A000',\n",
    "        '529400',\n",
    "        '3E8601',\n",
    "        '207401',\n",
    "        '056201',\n",
    "        '004C00',\n",
    "        '023B01',\n",
    "        '012E01',\n",
    "        '011D01',\n",
    "        '011301',\n",
    "    ],\n",
    "}\n",
    "Map.setCenter(-7.03125, 31.0529339857, 2)\n",
    "#Map.addLayer(image, vis_params, 'MODIS NDVI')\n",
    "\n",
    "countries = ee.FeatureCollection('users/giswqs/public/countries')\n",
    "style = {\"color\": \"00000088\", \"width\": 1, \"fillColor\": \"00000000\"}\n",
    "#Map.addLayer(countries.style(**style), {}, \"Countries\")\n",
    "\n",
    "ndvi = image.visualize(**vis_params)\n",
    "blend = ndvi.blend(countries.style(**style))\n",
    "\n",
    "#Map.addLayer(blend, {}, \"Blend\")\n",
    "\n",
    "Map"
   ]
  },
  {
   "cell_type": "code",
   "execution_count": 9,
   "id": "39f52654",
   "metadata": {},
   "outputs": [
    {
     "data": {
      "application/vnd.jupyter.widget-view+json": {
       "model_id": "bc5adb4b01e040ea958dcca277f9770b",
       "version_major": 2,
       "version_minor": 0
      },
      "text/plain": [
       "Map(bottom=719.0, center=[31.0529339857, -7.03125], controls=(WidgetControl(options=['position', 'transparent_…"
      ]
     },
     "execution_count": 9,
     "metadata": {},
     "output_type": "execute_result"
    }
   ],
   "source": [
    "import ipywidgets as widgets\n",
    "from ipyleaflet import WidgetControl\n",
    "from geemap import geojson_to_ee\n",
    "\n",
    "\n",
    "\n",
    "# Get basemap layers\n",
    "base_layers = Map.layers\n",
    "\n",
    "feat_list = []\n",
    "# Get the DrawControl\n",
    "dc = Map.draw_control\n",
    "\n",
    "# Handle draw events\n",
    "def handle_draw(self, action, geo_json):\n",
    "\n",
    "    geom = geojson_to_ee(geo_json, False)\n",
    "    feature = ee.Feature(geom)\n",
    "    feat_list.append(feature)\n",
    "    collection = ee.FeatureCollection(feat_list)\n",
    "    clip_image = image.clipToCollection(collection)\n",
    "\n",
    "    Map.layers = base_layers[:3]\n",
    "    Map.addLayer(clip_image, vis_params, 'SRTM DEM')\n",
    "    #Map.addLayer(ndvi, ndviParams, 'NDVI image')\n",
    "\n",
    "    #     Map.addLayer(ee.Image().paint(collection, 0, 2), {'palette': 'red'}, 'EE Geometry')\n",
    "    #Map.addLayer(collection, {}, 'Drawing Features')\n",
    "    \n",
    "dc.on_draw(handle_draw)\n",
    "\n",
    "Map"
   ]
  },
  {
   "cell_type": "code",
   "execution_count": null,
   "id": "2e766d06",
   "metadata": {},
   "outputs": [],
   "source": []
  }
 ],
 "metadata": {
  "kernelspec": {
   "display_name": "Python 3 (ipykernel)",
   "language": "python",
   "name": "python3"
  },
  "language_info": {
   "codemirror_mode": {
    "name": "ipython",
    "version": 3
   },
   "file_extension": ".py",
   "mimetype": "text/x-python",
   "name": "python",
   "nbconvert_exporter": "python",
   "pygments_lexer": "ipython3",
   "version": "3.9.7"
  }
 },
 "nbformat": 4,
 "nbformat_minor": 5
}
